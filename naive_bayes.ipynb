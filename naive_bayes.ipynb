{
  "nbformat": 4,
  "nbformat_minor": 0,
  "metadata": {
    "colab": {
      "name": "naive_bayes",
      "provenance": [],
      "collapsed_sections": [],
      "authorship_tag": "ABX9TyOuZwecNbMX9LA0tpIjuMFx",
      "include_colab_link": true
    },
    "kernelspec": {
      "name": "python3",
      "display_name": "Python 3"
    },
    "language_info": {
      "name": "python"
    }
  },
  "cells": [
    {
      "cell_type": "markdown",
      "metadata": {
        "id": "view-in-github",
        "colab_type": "text"
      },
      "source": [
        "<a href=\"https://colab.research.google.com/github/Faizal-syardi/Tugas-DataMining/blob/master/naive_bayes.ipynb\" target=\"_parent\"><img src=\"https://colab.research.google.com/assets/colab-badge.svg\" alt=\"Open In Colab\"/></a>"
      ]
    },
    {
      "cell_type": "code",
      "metadata": {
        "id": "x_xGZxY2AYFm"
      },
      "source": [
        "import numpy as np \n",
        "import matplotlib.pyplot as plt \n",
        "import pandas as pd"
      ],
      "execution_count": 60,
      "outputs": []
    },
    {
      "cell_type": "code",
      "metadata": {
        "id": "Ltnvz5VDAw_3"
      },
      "source": [
        "dataset = pd.read_csv('Daftar_laku.csv')\n",
        "x = dataset.iloc[:, [2,3]].values\n",
        "y = dataset.iloc[:, -1].values"
      ],
      "execution_count": 61,
      "outputs": []
    },
    {
      "cell_type": "code",
      "metadata": {
        "colab": {
          "base_uri": "https://localhost:8080/"
        },
        "id": "Zz-bnDpnDJT2",
        "outputId": "aead7f0d-17ca-42bf-e978-0d7c17ab3ec1"
      },
      "source": [
        "print(x)"
      ],
      "execution_count": 62,
      "outputs": [
        {
          "output_type": "stream",
          "text": [
            "[[   8 1600]\n",
            " [   5 1600]\n",
            " [   6 1800]\n",
            " [   8 1500]\n",
            " [   7 1700]\n",
            " [   7 1300]\n",
            " [   8 1800]\n",
            " [   6 1600]\n",
            " [   5 1500]\n",
            " [   8 2000]\n",
            " [  10 1400]\n",
            " [  11 2000]\n",
            " [  12 3000]\n",
            " [  11 1500]\n",
            " [  11 1600]\n",
            " [   8 1400]\n",
            " [   9 1600]\n",
            " [  10 1500]\n",
            " [  11 1200]\n",
            " [   7 1300]\n",
            " [   8 1600]\n",
            " [   5 1600]\n",
            " [   6 1800]\n",
            " [   8 1500]\n",
            " [   7 1700]\n",
            " [   7 1300]\n",
            " [   8 1800]\n",
            " [   6 1600]\n",
            " [   5 1500]\n",
            " [   8 2000]\n",
            " [  10 1400]\n",
            " [  11 2000]\n",
            " [  12 3000]\n",
            " [  11 1500]\n",
            " [  11 1600]\n",
            " [   8 1400]\n",
            " [   9 1600]\n",
            " [  10 1500]\n",
            " [  11 1200]\n",
            " [   7 1300]\n",
            " [   8 1600]\n",
            " [   5 1600]\n",
            " [   6 1800]\n",
            " [   8 1500]\n",
            " [   7 1700]\n",
            " [   7 1300]\n",
            " [   8 1800]\n",
            " [   6 1600]\n",
            " [   5 1500]\n",
            " [   8 2000]\n",
            " [  10 1400]\n",
            " [  11 2000]\n",
            " [  12 3000]\n",
            " [  11 1500]\n",
            " [  11 1600]\n",
            " [   8 1400]\n",
            " [   9 1600]\n",
            " [  10 1500]\n",
            " [  11 1200]\n",
            " [   7 1300]\n",
            " [   8 1600]\n",
            " [   5 1600]\n",
            " [   6 1800]\n",
            " [   8 1500]\n",
            " [   7 1700]\n",
            " [   7 1300]\n",
            " [   8 1800]\n",
            " [   6 1600]\n",
            " [   5 1500]\n",
            " [   8 2000]\n",
            " [  10 1400]\n",
            " [  11 2000]\n",
            " [  12 3000]\n",
            " [  11 1500]\n",
            " [  11 1600]\n",
            " [   8 1400]\n",
            " [   9 1600]\n",
            " [  10 1500]\n",
            " [  11 1200]\n",
            " [   7 1300]\n",
            " [   8 1600]\n",
            " [   5 1600]\n",
            " [   6 1800]\n",
            " [   8 1500]\n",
            " [   7 1700]\n",
            " [   7 1300]\n",
            " [   8 1800]\n",
            " [   6 1600]\n",
            " [   5 1500]\n",
            " [   8 2000]\n",
            " [  10 1400]\n",
            " [  11 2000]\n",
            " [  12 3000]\n",
            " [  11 1500]\n",
            " [  11 1600]\n",
            " [   8 1400]\n",
            " [   9 1600]\n",
            " [  10 1500]\n",
            " [  11 1200]\n",
            " [   7 1300]\n",
            " [   8 1600]\n",
            " [   5 1600]\n",
            " [   6 1800]\n",
            " [   8 1500]\n",
            " [   7 1700]\n",
            " [   7 1300]\n",
            " [   8 1800]\n",
            " [   6 1600]\n",
            " [   5 1500]\n",
            " [   8 2000]\n",
            " [  10 1400]\n",
            " [  11 2000]\n",
            " [  12 3000]\n",
            " [  11 1500]\n",
            " [  11 1600]\n",
            " [   8 1400]\n",
            " [   9 1600]\n",
            " [  10 1500]\n",
            " [  11 1200]\n",
            " [   7 1300]\n",
            " [   8 1600]\n",
            " [   5 1600]\n",
            " [   6 1800]\n",
            " [   8 1500]\n",
            " [   7 1700]\n",
            " [   7 1300]\n",
            " [   8 1800]\n",
            " [   6 1600]\n",
            " [   5 1500]\n",
            " [   8 2000]\n",
            " [  10 1400]\n",
            " [  11 2000]\n",
            " [  12 3000]\n",
            " [  11 1500]\n",
            " [  11 1600]\n",
            " [   8 1400]\n",
            " [   9 1600]\n",
            " [  10 1500]\n",
            " [  11 1200]\n",
            " [   7 1300]\n",
            " [   8 1600]\n",
            " [   5 1600]\n",
            " [   6 1800]\n",
            " [   8 1500]\n",
            " [   7 1700]\n",
            " [   7 1300]\n",
            " [   8 1800]\n",
            " [   6 1600]\n",
            " [   5 1500]\n",
            " [   8 2000]\n",
            " [  10 1400]\n",
            " [  11 2000]\n",
            " [  12 3000]\n",
            " [  11 1500]\n",
            " [  11 1600]\n",
            " [   8 1400]\n",
            " [   9 1600]\n",
            " [  10 1500]\n",
            " [  11 1200]\n",
            " [   7 1300]\n",
            " [   8 1600]\n",
            " [   5 1600]\n",
            " [   6 1800]\n",
            " [   8 1500]\n",
            " [   7 1700]\n",
            " [   7 1300]\n",
            " [   8 1800]\n",
            " [   6 1600]\n",
            " [   5 1500]\n",
            " [   8 2000]\n",
            " [  10 1400]\n",
            " [  11 2000]\n",
            " [  12 3000]\n",
            " [  11 1500]\n",
            " [  11 1600]\n",
            " [   8 1400]\n",
            " [   9 1600]\n",
            " [  10 1500]\n",
            " [  11 1200]\n",
            " [   7 1300]\n",
            " [   8 1600]\n",
            " [   5 1600]\n",
            " [   6 1800]\n",
            " [   8 1500]\n",
            " [   7 1700]\n",
            " [   7 1300]\n",
            " [   8 1800]\n",
            " [   6 1600]\n",
            " [   5 1500]\n",
            " [   8 2000]\n",
            " [  10 1400]\n",
            " [  11 2000]\n",
            " [  12 3000]\n",
            " [  11 1500]\n",
            " [  11 1600]\n",
            " [   8 1400]\n",
            " [   9 1600]\n",
            " [  10 1500]\n",
            " [  11 1200]\n",
            " [   7 1300]]\n"
          ],
          "name": "stdout"
        }
      ]
    },
    {
      "cell_type": "code",
      "metadata": {
        "colab": {
          "base_uri": "https://localhost:8080/"
        },
        "id": "JXh0_gU9DgRe",
        "outputId": "8650dca4-9160-4afa-c723-1605d1a74a53"
      },
      "source": [
        "print(y)"
      ],
      "execution_count": 63,
      "outputs": [
        {
          "output_type": "stream",
          "text": [
            "[0 0 0 0 0 0 0 1 0 0 0 0 0 0 0 0 1 1 1 1 1 1 1 1 1 1 1 1 0 0 0 1 0 0 0 0 0\n",
            " 0 0 0 0 0 0 0 0 0 0 0 1 0 0 0 0 0 0 0 0 0 0 0 0 0 0 1 0 0 0 0 0 0 0 0 0 0\n",
            " 0 1 0 0 0 0 0 0 0 0 0 1 0 0 0 0 0 0 0 0 0 0 0 1 0 0 0 0 0 1 0 0 0 0 0 0 0\n",
            " 0 0 0 0 0 0 0 0 0 0 0 0 0 0 0 0 0 0 0 0 0 0 0 0 0 0 1 0 0 0 0 0 0 0 0 1 0\n",
            " 0 0 0 0 0 0 0 0 0 0 0 1 1 0 0 0 0 0 0 0 1 0 0 0 0 0 0 0 0 0 0 0 0 0 1 0 0\n",
            " 0 0 0 0 0 0 0 0 0 0 0 0 0 0 0]\n"
          ],
          "name": "stdout"
        }
      ]
    },
    {
      "cell_type": "code",
      "metadata": {
        "id": "kW_sxgpDDkfE"
      },
      "source": [
        "from sklearn.model_selection import train_test_split\n",
        "x_train,x_test,y_train,y_test = train_test_split(x,y,test_size=0.25, random_state=0)"
      ],
      "execution_count": 64,
      "outputs": []
    },
    {
      "cell_type": "code",
      "metadata": {
        "colab": {
          "base_uri": "https://localhost:8080/"
        },
        "id": "l6B24cFmFGyY",
        "outputId": "44d2bd5d-4781-4008-dd61-53a00dbc0502"
      },
      "source": [
        "print(x_train)"
      ],
      "execution_count": 65,
      "outputs": [
        {
          "output_type": "stream",
          "text": [
            "[[  11 2000]\n",
            " [   7 1700]\n",
            " [   7 1700]\n",
            " [  10 1500]\n",
            " [   8 2000]\n",
            " [   7 1700]\n",
            " [  10 1400]\n",
            " [   8 1600]\n",
            " [   8 1600]\n",
            " [   9 1600]\n",
            " [  11 2000]\n",
            " [   9 1600]\n",
            " [   5 1600]\n",
            " [   7 1300]\n",
            " [  11 1500]\n",
            " [  12 3000]\n",
            " [  11 1600]\n",
            " [   8 1500]\n",
            " [  11 2000]\n",
            " [   8 1800]\n",
            " [   7 1300]\n",
            " [  10 1400]\n",
            " [  10 1500]\n",
            " [   5 1600]\n",
            " [   7 1700]\n",
            " [   8 2000]\n",
            " [   8 2000]\n",
            " [  11 1600]\n",
            " [   6 1600]\n",
            " [   5 1600]\n",
            " [   6 1600]\n",
            " [   8 1800]\n",
            " [  11 1200]\n",
            " [   8 1400]\n",
            " [   5 1500]\n",
            " [   6 1800]\n",
            " [   6 1800]\n",
            " [   7 1300]\n",
            " [   9 1600]\n",
            " [  10 1500]\n",
            " [   8 1500]\n",
            " [  10 1400]\n",
            " [  11 1600]\n",
            " [  11 1500]\n",
            " [   9 1600]\n",
            " [  11 1200]\n",
            " [   8 1400]\n",
            " [   8 1800]\n",
            " [  11 1500]\n",
            " [  12 3000]\n",
            " [  11 1200]\n",
            " [  11 2000]\n",
            " [  10 1400]\n",
            " [   8 1600]\n",
            " [  11 1600]\n",
            " [  10 1400]\n",
            " [   8 1400]\n",
            " [   7 1700]\n",
            " [   6 1600]\n",
            " [   5 1600]\n",
            " [   8 2000]\n",
            " [   8 2000]\n",
            " [   5 1500]\n",
            " [   7 1300]\n",
            " [  11 1500]\n",
            " [   5 1600]\n",
            " [   8 1500]\n",
            " [   8 1800]\n",
            " [   8 1400]\n",
            " [   8 1600]\n",
            " [   8 1400]\n",
            " [  11 1200]\n",
            " [   7 1700]\n",
            " [  12 3000]\n",
            " [   8 1600]\n",
            " [   9 1600]\n",
            " [   8 1500]\n",
            " [   9 1600]\n",
            " [   7 1700]\n",
            " [  11 1200]\n",
            " [   8 1800]\n",
            " [   5 1500]\n",
            " [   7 1700]\n",
            " [   5 1600]\n",
            " [   8 1400]\n",
            " [  11 2000]\n",
            " [   9 1600]\n",
            " [  11 2000]\n",
            " [   7 1300]\n",
            " [  11 2000]\n",
            " [   7 1300]\n",
            " [   6 1800]\n",
            " [   8 1400]\n",
            " [  10 1500]\n",
            " [   7 1300]\n",
            " [   5 1600]\n",
            " [   8 1600]\n",
            " [   6 1800]\n",
            " [   6 1800]\n",
            " [   7 1300]\n",
            " [  12 3000]\n",
            " [  11 1500]\n",
            " [  10 1500]\n",
            " [  11 1200]\n",
            " [  11 1500]\n",
            " [  11 1500]\n",
            " [  10 1500]\n",
            " [   5 1500]\n",
            " [  11 1600]\n",
            " [   5 1500]\n",
            " [  11 1600]\n",
            " [  11 2000]\n",
            " [  11 2000]\n",
            " [   8 1800]\n",
            " [   6 1600]\n",
            " [   9 1600]\n",
            " [  12 3000]\n",
            " [   6 1800]\n",
            " [   8 2000]\n",
            " [   6 1600]\n",
            " [   8 2000]\n",
            " [   7 1300]\n",
            " [   6 1800]\n",
            " [   7 1300]\n",
            " [   8 1400]\n",
            " [   5 1500]\n",
            " [  11 1500]\n",
            " [  12 3000]\n",
            " [  10 1500]\n",
            " [   7 1300]\n",
            " [   7 1300]\n",
            " [   5 1600]\n",
            " [   5 1500]\n",
            " [  11 1600]\n",
            " [  10 1400]\n",
            " [   7 1300]\n",
            " [  11 1200]\n",
            " [   8 1600]\n",
            " [   5 1500]\n",
            " [  10 1400]\n",
            " [   6 1600]\n",
            " [   9 1600]\n",
            " [   5 1600]\n",
            " [   8 2000]\n",
            " [   8 1500]\n",
            " [   6 1600]\n",
            " [  12 3000]\n",
            " [  10 1500]\n",
            " [   6 1600]\n",
            " [  12 3000]]\n"
          ],
          "name": "stdout"
        }
      ]
    },
    {
      "cell_type": "code",
      "metadata": {
        "colab": {
          "base_uri": "https://localhost:8080/"
        },
        "id": "y5xT4GqeFLE9",
        "outputId": "c24234f2-7e68-4922-d5d5-f7cb69fbfa55"
      },
      "source": [
        "print(x_test)"
      ],
      "execution_count": 66,
      "outputs": [
        {
          "output_type": "stream",
          "text": [
            "[[  11 1200]\n",
            " [  10 1400]\n",
            " [   6 1600]\n",
            " [  11 1200]\n",
            " [  10 1500]\n",
            " [   6 1800]\n",
            " [   7 1300]\n",
            " [   8 1800]\n",
            " [  12 3000]\n",
            " [  12 3000]\n",
            " [   5 1600]\n",
            " [   7 1300]\n",
            " [   8 1600]\n",
            " [  11 1600]\n",
            " [   8 1600]\n",
            " [   6 1600]\n",
            " [  11 1500]\n",
            " [  10 1400]\n",
            " [  10 1500]\n",
            " [  11 1600]\n",
            " [   8 1500]\n",
            " [   7 1300]\n",
            " [   7 1300]\n",
            " [   7 1300]\n",
            " [   8 1600]\n",
            " [   8 1500]\n",
            " [   7 1300]\n",
            " [   7 1300]\n",
            " [   6 1800]\n",
            " [   7 1700]\n",
            " [   9 1600]\n",
            " [   8 1400]\n",
            " [  10 1400]\n",
            " [  11 2000]\n",
            " [   6 1800]\n",
            " [   8 2000]\n",
            " [   8 2000]\n",
            " [   7 1700]\n",
            " [   8 1500]\n",
            " [   8 1800]\n",
            " [  11 1600]\n",
            " [   8 1800]\n",
            " [   8 1800]\n",
            " [  11 1500]\n",
            " [   5 1500]\n",
            " [   8 1500]\n",
            " [   5 1500]\n",
            " [   8 1400]\n",
            " [  11 1200]\n",
            " [   8 1500]]\n"
          ],
          "name": "stdout"
        }
      ]
    },
    {
      "cell_type": "code",
      "metadata": {
        "colab": {
          "base_uri": "https://localhost:8080/"
        },
        "id": "DetWqeYOFS02",
        "outputId": "1891f60d-aa79-4f13-e71d-38aaa6c15a9a"
      },
      "source": [
        "print(y_train)"
      ],
      "execution_count": 67,
      "outputs": [
        {
          "output_type": "stream",
          "text": [
            "[0 0 0 1 0 1 0 1 0 0 0 0 0 1 0 0 0 0 0 0 0 0 1 0 0 0 0 0 1 0 0 0 0 0 0 0 0\n",
            " 0 0 0 0 0 0 0 0 0 0 0 0 0 0 0 0 0 0 0 0 0 0 0 0 0 1 1 0 0 1 0 0 1 0 0 0 0\n",
            " 0 0 0 0 0 0 0 0 0 0 0 0 0 0 0 0 0 0 0 0 0 0 0 0 0 0 0 0 1 0 0 0 0 0 0 0 0\n",
            " 0 1 0 0 0 0 0 0 0 0 0 0 0 0 0 0 0 0 1 0 0 0 0 0 0 0 0 0 0 0 0 1 0 1 0 0 0\n",
            " 0 0]\n"
          ],
          "name": "stdout"
        }
      ]
    },
    {
      "cell_type": "code",
      "metadata": {
        "colab": {
          "base_uri": "https://localhost:8080/"
        },
        "id": "WqRGcifCFV89",
        "outputId": "6846f9f2-b11d-43e1-dace-b43ea591cd27"
      },
      "source": [
        "print(y_test)"
      ],
      "execution_count": 68,
      "outputs": [
        {
          "output_type": "stream",
          "text": [
            "[1 0 0 0 0 1 0 1 0 0 0 0 0 0 0 1 0 0 0 0 0 0 0 1 0 0 0 0 0 0 1 0 0 0 1 0 0\n",
            " 0 0 0 0 0 1 0 1 1 0 1 0 0]\n"
          ],
          "name": "stdout"
        }
      ]
    },
    {
      "cell_type": "code",
      "metadata": {
        "id": "mehtGQ0eFc60"
      },
      "source": [
        "from sklearn.preprocessing  import StandardScaler\n",
        "sc= StandardScaler()\n",
        "x_train=sc.fit_transform(x_train)\n",
        "x_test = sc.transform(x_test)\n"
      ],
      "execution_count": 69,
      "outputs": []
    },
    {
      "cell_type": "code",
      "metadata": {
        "colab": {
          "base_uri": "https://localhost:8080/"
        },
        "id": "KWKhuwWWGW91",
        "outputId": "13374745-0fb7-41d7-f7cb-972dc2a31cfd"
      },
      "source": [
        "print(x_train)"
      ],
      "execution_count": 70,
      "outputs": [
        {
          "output_type": "stream",
          "text": [
            "[[ 1.21098721  0.89816821]\n",
            " [-0.66167342  0.10876256]\n",
            " [-0.66167342  0.10876256]\n",
            " [ 0.74282205 -0.41750788]\n",
            " [-0.19350827  0.89816821]\n",
            " [-0.66167342  0.10876256]\n",
            " [ 0.74282205 -0.6806431 ]\n",
            " [-0.19350827 -0.15437266]\n",
            " [-0.19350827 -0.15437266]\n",
            " [ 0.27465689 -0.15437266]\n",
            " [ 1.21098721  0.89816821]\n",
            " [ 0.27465689 -0.15437266]\n",
            " [-1.59800374 -0.15437266]\n",
            " [-0.66167342 -0.94377832]\n",
            " [ 1.21098721 -0.41750788]\n",
            " [ 1.67915237  3.5295204 ]\n",
            " [ 1.21098721 -0.15437266]\n",
            " [-0.19350827 -0.41750788]\n",
            " [ 1.21098721  0.89816821]\n",
            " [-0.19350827  0.37189778]\n",
            " [-0.66167342 -0.94377832]\n",
            " [ 0.74282205 -0.6806431 ]\n",
            " [ 0.74282205 -0.41750788]\n",
            " [-1.59800374 -0.15437266]\n",
            " [-0.66167342  0.10876256]\n",
            " [-0.19350827  0.89816821]\n",
            " [-0.19350827  0.89816821]\n",
            " [ 1.21098721 -0.15437266]\n",
            " [-1.12983858 -0.15437266]\n",
            " [-1.59800374 -0.15437266]\n",
            " [-1.12983858 -0.15437266]\n",
            " [-0.19350827  0.37189778]\n",
            " [ 1.21098721 -1.20691354]\n",
            " [-0.19350827 -0.6806431 ]\n",
            " [-1.59800374 -0.41750788]\n",
            " [-1.12983858  0.37189778]\n",
            " [-1.12983858  0.37189778]\n",
            " [-0.66167342 -0.94377832]\n",
            " [ 0.27465689 -0.15437266]\n",
            " [ 0.74282205 -0.41750788]\n",
            " [-0.19350827 -0.41750788]\n",
            " [ 0.74282205 -0.6806431 ]\n",
            " [ 1.21098721 -0.15437266]\n",
            " [ 1.21098721 -0.41750788]\n",
            " [ 0.27465689 -0.15437266]\n",
            " [ 1.21098721 -1.20691354]\n",
            " [-0.19350827 -0.6806431 ]\n",
            " [-0.19350827  0.37189778]\n",
            " [ 1.21098721 -0.41750788]\n",
            " [ 1.67915237  3.5295204 ]\n",
            " [ 1.21098721 -1.20691354]\n",
            " [ 1.21098721  0.89816821]\n",
            " [ 0.74282205 -0.6806431 ]\n",
            " [-0.19350827 -0.15437266]\n",
            " [ 1.21098721 -0.15437266]\n",
            " [ 0.74282205 -0.6806431 ]\n",
            " [-0.19350827 -0.6806431 ]\n",
            " [-0.66167342  0.10876256]\n",
            " [-1.12983858 -0.15437266]\n",
            " [-1.59800374 -0.15437266]\n",
            " [-0.19350827  0.89816821]\n",
            " [-0.19350827  0.89816821]\n",
            " [-1.59800374 -0.41750788]\n",
            " [-0.66167342 -0.94377832]\n",
            " [ 1.21098721 -0.41750788]\n",
            " [-1.59800374 -0.15437266]\n",
            " [-0.19350827 -0.41750788]\n",
            " [-0.19350827  0.37189778]\n",
            " [-0.19350827 -0.6806431 ]\n",
            " [-0.19350827 -0.15437266]\n",
            " [-0.19350827 -0.6806431 ]\n",
            " [ 1.21098721 -1.20691354]\n",
            " [-0.66167342  0.10876256]\n",
            " [ 1.67915237  3.5295204 ]\n",
            " [-0.19350827 -0.15437266]\n",
            " [ 0.27465689 -0.15437266]\n",
            " [-0.19350827 -0.41750788]\n",
            " [ 0.27465689 -0.15437266]\n",
            " [-0.66167342  0.10876256]\n",
            " [ 1.21098721 -1.20691354]\n",
            " [-0.19350827  0.37189778]\n",
            " [-1.59800374 -0.41750788]\n",
            " [-0.66167342  0.10876256]\n",
            " [-1.59800374 -0.15437266]\n",
            " [-0.19350827 -0.6806431 ]\n",
            " [ 1.21098721  0.89816821]\n",
            " [ 0.27465689 -0.15437266]\n",
            " [ 1.21098721  0.89816821]\n",
            " [-0.66167342 -0.94377832]\n",
            " [ 1.21098721  0.89816821]\n",
            " [-0.66167342 -0.94377832]\n",
            " [-1.12983858  0.37189778]\n",
            " [-0.19350827 -0.6806431 ]\n",
            " [ 0.74282205 -0.41750788]\n",
            " [-0.66167342 -0.94377832]\n",
            " [-1.59800374 -0.15437266]\n",
            " [-0.19350827 -0.15437266]\n",
            " [-1.12983858  0.37189778]\n",
            " [-1.12983858  0.37189778]\n",
            " [-0.66167342 -0.94377832]\n",
            " [ 1.67915237  3.5295204 ]\n",
            " [ 1.21098721 -0.41750788]\n",
            " [ 0.74282205 -0.41750788]\n",
            " [ 1.21098721 -1.20691354]\n",
            " [ 1.21098721 -0.41750788]\n",
            " [ 1.21098721 -0.41750788]\n",
            " [ 0.74282205 -0.41750788]\n",
            " [-1.59800374 -0.41750788]\n",
            " [ 1.21098721 -0.15437266]\n",
            " [-1.59800374 -0.41750788]\n",
            " [ 1.21098721 -0.15437266]\n",
            " [ 1.21098721  0.89816821]\n",
            " [ 1.21098721  0.89816821]\n",
            " [-0.19350827  0.37189778]\n",
            " [-1.12983858 -0.15437266]\n",
            " [ 0.27465689 -0.15437266]\n",
            " [ 1.67915237  3.5295204 ]\n",
            " [-1.12983858  0.37189778]\n",
            " [-0.19350827  0.89816821]\n",
            " [-1.12983858 -0.15437266]\n",
            " [-0.19350827  0.89816821]\n",
            " [-0.66167342 -0.94377832]\n",
            " [-1.12983858  0.37189778]\n",
            " [-0.66167342 -0.94377832]\n",
            " [-0.19350827 -0.6806431 ]\n",
            " [-1.59800374 -0.41750788]\n",
            " [ 1.21098721 -0.41750788]\n",
            " [ 1.67915237  3.5295204 ]\n",
            " [ 0.74282205 -0.41750788]\n",
            " [-0.66167342 -0.94377832]\n",
            " [-0.66167342 -0.94377832]\n",
            " [-1.59800374 -0.15437266]\n",
            " [-1.59800374 -0.41750788]\n",
            " [ 1.21098721 -0.15437266]\n",
            " [ 0.74282205 -0.6806431 ]\n",
            " [-0.66167342 -0.94377832]\n",
            " [ 1.21098721 -1.20691354]\n",
            " [-0.19350827 -0.15437266]\n",
            " [-1.59800374 -0.41750788]\n",
            " [ 0.74282205 -0.6806431 ]\n",
            " [-1.12983858 -0.15437266]\n",
            " [ 0.27465689 -0.15437266]\n",
            " [-1.59800374 -0.15437266]\n",
            " [-0.19350827  0.89816821]\n",
            " [-0.19350827 -0.41750788]\n",
            " [-1.12983858 -0.15437266]\n",
            " [ 1.67915237  3.5295204 ]\n",
            " [ 0.74282205 -0.41750788]\n",
            " [-1.12983858 -0.15437266]\n",
            " [ 1.67915237  3.5295204 ]]\n"
          ],
          "name": "stdout"
        }
      ]
    },
    {
      "cell_type": "code",
      "metadata": {
        "colab": {
          "base_uri": "https://localhost:8080/"
        },
        "id": "JBwp4VN1G3kK",
        "outputId": "f97683d5-32ca-41f4-f535-f4867a1d8a99"
      },
      "source": [
        "from sklearn.naive_bayes import GaussianNB\n",
        "classifier = GaussianNB()\n",
        "classifier.fit(x_train,y_train)"
      ],
      "execution_count": 71,
      "outputs": [
        {
          "output_type": "execute_result",
          "data": {
            "text/plain": [
              "GaussianNB(priors=None, var_smoothing=1e-09)"
            ]
          },
          "metadata": {
            "tags": []
          },
          "execution_count": 71
        }
      ]
    },
    {
      "cell_type": "code",
      "metadata": {
        "id": "mpP9Pg9PIEiq"
      },
      "source": [
        "y_pred = classifier.predict(x_test)"
      ],
      "execution_count": 72,
      "outputs": []
    },
    {
      "cell_type": "code",
      "metadata": {
        "colab": {
          "base_uri": "https://localhost:8080/"
        },
        "id": "rj62T-jCIPu9",
        "outputId": "c3e6ab15-0ddb-4f60-d709-c07655476260"
      },
      "source": [
        "print(x_test)"
      ],
      "execution_count": 73,
      "outputs": [
        {
          "output_type": "stream",
          "text": [
            "[[ 1.21098721 -1.20691354]\n",
            " [ 0.74282205 -0.6806431 ]\n",
            " [-1.12983858 -0.15437266]\n",
            " [ 1.21098721 -1.20691354]\n",
            " [ 0.74282205 -0.41750788]\n",
            " [-1.12983858  0.37189778]\n",
            " [-0.66167342 -0.94377832]\n",
            " [-0.19350827  0.37189778]\n",
            " [ 1.67915237  3.5295204 ]\n",
            " [ 1.67915237  3.5295204 ]\n",
            " [-1.59800374 -0.15437266]\n",
            " [-0.66167342 -0.94377832]\n",
            " [-0.19350827 -0.15437266]\n",
            " [ 1.21098721 -0.15437266]\n",
            " [-0.19350827 -0.15437266]\n",
            " [-1.12983858 -0.15437266]\n",
            " [ 1.21098721 -0.41750788]\n",
            " [ 0.74282205 -0.6806431 ]\n",
            " [ 0.74282205 -0.41750788]\n",
            " [ 1.21098721 -0.15437266]\n",
            " [-0.19350827 -0.41750788]\n",
            " [-0.66167342 -0.94377832]\n",
            " [-0.66167342 -0.94377832]\n",
            " [-0.66167342 -0.94377832]\n",
            " [-0.19350827 -0.15437266]\n",
            " [-0.19350827 -0.41750788]\n",
            " [-0.66167342 -0.94377832]\n",
            " [-0.66167342 -0.94377832]\n",
            " [-1.12983858  0.37189778]\n",
            " [-0.66167342  0.10876256]\n",
            " [ 0.27465689 -0.15437266]\n",
            " [-0.19350827 -0.6806431 ]\n",
            " [ 0.74282205 -0.6806431 ]\n",
            " [ 1.21098721  0.89816821]\n",
            " [-1.12983858  0.37189778]\n",
            " [-0.19350827  0.89816821]\n",
            " [-0.19350827  0.89816821]\n",
            " [-0.66167342  0.10876256]\n",
            " [-0.19350827 -0.41750788]\n",
            " [-0.19350827  0.37189778]\n",
            " [ 1.21098721 -0.15437266]\n",
            " [-0.19350827  0.37189778]\n",
            " [-0.19350827  0.37189778]\n",
            " [ 1.21098721 -0.41750788]\n",
            " [-1.59800374 -0.41750788]\n",
            " [-0.19350827 -0.41750788]\n",
            " [-1.59800374 -0.41750788]\n",
            " [-0.19350827 -0.6806431 ]\n",
            " [ 1.21098721 -1.20691354]\n",
            " [-0.19350827 -0.41750788]]\n"
          ],
          "name": "stdout"
        }
      ]
    },
    {
      "cell_type": "code",
      "metadata": {
        "colab": {
          "base_uri": "https://localhost:8080/"
        },
        "id": "SklYsleHIZSP",
        "outputId": "628749fc-db8d-4cf5-a994-ec187bbcfa3a"
      },
      "source": [
        "  from sklearn.metrics import confusion_matrix\n",
        "  cm = confusion_matrix(y_test,y_pred)\n",
        "  print(cm)"
      ],
      "execution_count": 74,
      "outputs": [
        {
          "output_type": "stream",
          "text": [
            "[[39  0]\n",
            " [11  0]]\n"
          ],
          "name": "stdout"
        }
      ]
    },
    {
      "cell_type": "code",
      "metadata": {
        "colab": {
          "base_uri": "https://localhost:8080/",
          "height": 349
        },
        "id": "xCE4R6qYIyrG",
        "outputId": "1b6fe1ab-9b2e-4c31-eb84-8cb0e1d956ce"
      },
      "source": [
        "from matplotlib.colors import ListedColormap\n",
        "x_set,y_set = x_train,y_train\n",
        "x1,x2 = np.meshgrid(np.arange(start = x_set[:,0].min() - 1, stop= x_set[:, 0].max() + 1,step=0.01  ),\n",
        "                    np.arange(start = x_set[:,1 ].min()-1, stop=x_set[:,1].max() + 1,step=0.01  ))\n",
        "plt.contourf (x1,x2,classifier.predict(np.array([x1.ravel(),x2.ravel()]).T).reshape(x1.shape),\n",
        "              alpha = 0.75, cmap =ListedColormap(( 'purple','green')))\n",
        "plt.xlim(x1.min(),x1.max())\n",
        "plt.ylim(x2.min(),x2.max())\n",
        "for i, j in enumerate(np.unique(y_set)):\n",
        "  plt.scatter(x_set[y_set==j,0],x_set[y_set==j,1],\n",
        "              c = ListedColormap(('purple','green'))(i),label=j)\n",
        "plt.title('Naive Bayes (Training set)')\n",
        "plt.xlabel('Age')\n",
        "plt.ylabel('Estimated Salary')\n",
        "plt.legend()\n",
        "plt.show()"
      ],
      "execution_count": 75,
      "outputs": [
        {
          "output_type": "stream",
          "text": [
            "*c* argument looks like a single numeric RGB or RGBA sequence, which should be avoided as value-mapping will have precedence in case its length matches with *x* & *y*.  Please use the *color* keyword-argument or provide a 2-D array with a single row if you intend to specify the same RGB or RGBA value for all points.\n",
            "*c* argument looks like a single numeric RGB or RGBA sequence, which should be avoided as value-mapping will have precedence in case its length matches with *x* & *y*.  Please use the *color* keyword-argument or provide a 2-D array with a single row if you intend to specify the same RGB or RGBA value for all points.\n"
          ],
          "name": "stderr"
        },
        {
          "output_type": "display_data",
          "data": {
            "image/png": "[encoded data removed]",
            "text/plain": [
              "<Figure size 432x288 with 1 Axes>"
            ]
          },
          "metadata": {
            "tags": [],
            "needs_background": "light"
          }
        }
      ]
    }
  ]
}